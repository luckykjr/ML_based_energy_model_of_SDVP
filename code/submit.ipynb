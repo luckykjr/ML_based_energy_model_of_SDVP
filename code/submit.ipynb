{
 "cells": [
  {
   "cell_type": "code",
   "execution_count": 1,
   "metadata": {
    "scrolled": true
   },
   "outputs": [
    {
     "name": "stdout",
     "output_type": "stream",
     "text": [
      "Requirement already satisfied: numpy in d:\\users\\haozuo\\anaconda3\\lib\\site-packages (1.23.1)\n",
      "Requirement already satisfied: pandas in d:\\users\\haozuo\\anaconda3\\lib\\site-packages (1.1.3)\n",
      "Requirement already satisfied: numpy>=1.15.4 in d:\\users\\haozuo\\anaconda3\\lib\\site-packages (from pandas) (1.23.1)\n",
      "Requirement already satisfied: python-dateutil>=2.7.3 in d:\\users\\haozuo\\anaconda3\\lib\\site-packages (from pandas) (2.8.1)\n",
      "Requirement already satisfied: pytz>=2017.2 in d:\\users\\haozuo\\anaconda3\\lib\\site-packages (from pandas) (2020.1)\n",
      "Requirement already satisfied: six>=1.5 in d:\\users\\haozuo\\anaconda3\\lib\\site-packages (from python-dateutil>=2.7.3->pandas) (1.15.0)\n",
      "Requirement already satisfied: lightgbm in d:\\users\\haozuo\\anaconda3\\lib\\site-packages (3.3.3)\n",
      "Collecting scikit-learn!=0.22.0\n",
      "  Downloading scikit_learn-1.2.0-cp38-cp38-win_amd64.whl (8.2 MB)\n"
     ]
    },
    {
     "name": "stderr",
     "output_type": "stream",
     "text": [
      "ERROR: Exception:\n",
      "Traceback (most recent call last):\n",
      "  File \"D:\\Users\\haozuo\\Anaconda3\\lib\\site-packages\\pip\\_vendor\\urllib3\\response.py\", line 437, in _error_catcher\n",
      "    yield\n",
      "  File \"D:\\Users\\haozuo\\Anaconda3\\lib\\site-packages\\pip\\_vendor\\urllib3\\response.py\", line 519, in read\n",
      "    data = self._fp.read(amt) if not fp_closed else b\"\"\n",
      "  File \"D:\\Users\\haozuo\\Anaconda3\\lib\\site-packages\\pip\\_vendor\\cachecontrol\\filewrapper.py\", line 62, in read\n",
      "    data = self.__fp.read(amt)\n",
      "  File \"D:\\Users\\haozuo\\Anaconda3\\lib\\http\\client.py\", line 458, in read\n",
      "    n = self.readinto(b)\n",
      "  File \"D:\\Users\\haozuo\\Anaconda3\\lib\\http\\client.py\", line 502, in readinto\n",
      "    n = self.fp.readinto(b)\n",
      "  File \"D:\\Users\\haozuo\\Anaconda3\\lib\\socket.py\", line 669, in readinto\n",
      "    return self._sock.recv_into(b)\n",
      "  File \"D:\\Users\\haozuo\\Anaconda3\\lib\\ssl.py\", line 1241, in recv_into\n",
      "    return self.read(nbytes, buffer)\n",
      "  File \"D:\\Users\\haozuo\\Anaconda3\\lib\\ssl.py\", line 1099, in read\n",
      "    return self._sslobj.read(len, buffer)\n",
      "socket.timeout: The read operation timed out\n",
      "\n",
      "During handling of the above exception, another exception occurred:\n",
      "\n",
      "Traceback (most recent call last):\n",
      "  File \"D:\\Users\\haozuo\\Anaconda3\\lib\\site-packages\\pip\\_internal\\cli\\base_command.py\", line 228, in _main\n",
      "    status = self.run(options, args)\n",
      "  File \"D:\\Users\\haozuo\\Anaconda3\\lib\\site-packages\\pip\\_internal\\cli\\req_command.py\", line 182, in wrapper\n",
      "    return func(self, options, args)\n",
      "  File \"D:\\Users\\haozuo\\Anaconda3\\lib\\site-packages\\pip\\_internal\\commands\\install.py\", line 323, in run\n",
      "    requirement_set = resolver.resolve(\n",
      "  File \"D:\\Users\\haozuo\\Anaconda3\\lib\\site-packages\\pip\\_internal\\resolution\\legacy\\resolver.py\", line 183, in resolve\n",
      "    discovered_reqs.extend(self._resolve_one(requirement_set, req))\n",
      "  File \"D:\\Users\\haozuo\\Anaconda3\\lib\\site-packages\\pip\\_internal\\resolution\\legacy\\resolver.py\", line 388, in _resolve_one\n",
      "    abstract_dist = self._get_abstract_dist_for(req_to_install)\n",
      "  File \"D:\\Users\\haozuo\\Anaconda3\\lib\\site-packages\\pip\\_internal\\resolution\\legacy\\resolver.py\", line 340, in _get_abstract_dist_for\n",
      "    abstract_dist = self.preparer.prepare_linked_requirement(req)\n",
      "  File \"D:\\Users\\haozuo\\Anaconda3\\lib\\site-packages\\pip\\_internal\\operations\\prepare.py\", line 467, in prepare_linked_requirement\n",
      "    local_file = unpack_url(\n",
      "  File \"D:\\Users\\haozuo\\Anaconda3\\lib\\site-packages\\pip\\_internal\\operations\\prepare.py\", line 255, in unpack_url\n",
      "    file = get_http_url(\n",
      "  File \"D:\\Users\\haozuo\\Anaconda3\\lib\\site-packages\\pip\\_internal\\operations\\prepare.py\", line 129, in get_http_url\n",
      "    from_path, content_type = _download_http_url(\n",
      "  File \"D:\\Users\\haozuo\\Anaconda3\\lib\\site-packages\\pip\\_internal\\operations\\prepare.py\", line 282, in _download_http_url\n",
      "    for chunk in download.chunks:\n",
      "  File \"D:\\Users\\haozuo\\Anaconda3\\lib\\site-packages\\pip\\_internal\\cli\\progress_bars.py\", line 168, in iter\n",
      "    for x in it:\n",
      "  File \"D:\\Users\\haozuo\\Anaconda3\\lib\\site-packages\\pip\\_internal\\network\\utils.py\", line 64, in response_chunks\n",
      "    for chunk in response.raw.stream(\n",
      "  File \"D:\\Users\\haozuo\\Anaconda3\\lib\\site-packages\\pip\\_vendor\\urllib3\\response.py\", line 576, in stream\n",
      "    data = self.read(amt=amt, decode_content=decode_content)\n",
      "  File \"D:\\Users\\haozuo\\Anaconda3\\lib\\site-packages\\pip\\_vendor\\urllib3\\response.py\", line 541, in read\n",
      "    raise IncompleteRead(self._fp_bytes_read, self.length_remaining)\n",
      "  File \"D:\\Users\\haozuo\\Anaconda3\\lib\\contextlib.py\", line 131, in __exit__\n",
      "    self.gen.throw(type, value, traceback)\n",
      "  File \"D:\\Users\\haozuo\\Anaconda3\\lib\\site-packages\\pip\\_vendor\\urllib3\\response.py\", line 442, in _error_catcher\n",
      "    raise ReadTimeoutError(self._pool, None, \"Read timed out.\")\n",
      "pip._vendor.urllib3.exceptions.ReadTimeoutError: HTTPSConnectionPool(host='files.pythonhosted.org', port=443): Read timed out.\n"
     ]
    },
    {
     "name": "stdout",
     "output_type": "stream",
     "text": [
      "Requirement already satisfied: xgboost in d:\\users\\haozuo\\anaconda3\\lib\\site-packages (1.7.2)\n",
      "Requirement already satisfied: scipy in d:\\users\\haozuo\\anaconda3\\lib\\site-packages (from xgboost) (1.5.2)\n",
      "Requirement already satisfied: numpy in d:\\users\\haozuo\\anaconda3\\lib\\site-packages (from xgboost) (1.23.1)\n",
      "Requirement already satisfied: scikit-learn==0.22 in d:\\users\\haozuo\\anaconda3\\lib\\site-packages (0.22)\n",
      "Requirement already satisfied: numpy>=1.11.0 in d:\\users\\haozuo\\anaconda3\\lib\\site-packages (from scikit-learn==0.22) (1.23.1)\n",
      "Requirement already satisfied: joblib>=0.11 in d:\\users\\haozuo\\anaconda3\\lib\\site-packages (from scikit-learn==0.22) (1.2.0)\n",
      "Requirement already satisfied: scipy>=0.17.0 in d:\\users\\haozuo\\anaconda3\\lib\\site-packages (from scikit-learn==0.22) (1.5.2)\n",
      "Requirement already satisfied: seaborn in d:\\users\\haozuo\\anaconda3\\lib\\site-packages (0.11.0)\n",
      "Requirement already satisfied: scipy>=1.0 in d:\\users\\haozuo\\anaconda3\\lib\\site-packages (from seaborn) (1.5.2)\n",
      "Requirement already satisfied: pandas>=0.23 in d:\\users\\haozuo\\anaconda3\\lib\\site-packages (from seaborn) (1.1.3)\n",
      "Requirement already satisfied: numpy>=1.15 in d:\\users\\haozuo\\anaconda3\\lib\\site-packages (from seaborn) (1.23.1)\n",
      "Requirement already satisfied: matplotlib>=2.2 in d:\\users\\haozuo\\anaconda3\\lib\\site-packages (from seaborn) (3.3.2)\n",
      "Requirement already satisfied: pytz>=2017.2 in d:\\users\\haozuo\\anaconda3\\lib\\site-packages (from pandas>=0.23->seaborn) (2020.1)\n",
      "Requirement already satisfied: python-dateutil>=2.7.3 in d:\\users\\haozuo\\anaconda3\\lib\\site-packages (from pandas>=0.23->seaborn) (2.8.1)\n",
      "Requirement already satisfied: pillow>=6.2.0 in d:\\users\\haozuo\\anaconda3\\lib\\site-packages (from matplotlib>=2.2->seaborn) (8.4.0)\n",
      "Requirement already satisfied: pyparsing!=2.0.4,!=2.1.2,!=2.1.6,>=2.0.3 in d:\\users\\haozuo\\anaconda3\\lib\\site-packages (from matplotlib>=2.2->seaborn) (2.4.7)\n",
      "Requirement already satisfied: kiwisolver>=1.0.1 in d:\\users\\haozuo\\anaconda3\\lib\\site-packages (from matplotlib>=2.2->seaborn) (1.3.0)\n",
      "Requirement already satisfied: cycler>=0.10 in d:\\users\\haozuo\\anaconda3\\lib\\site-packages (from matplotlib>=2.2->seaborn) (0.10.0)\n",
      "Requirement already satisfied: certifi>=2020.06.20 in d:\\users\\haozuo\\anaconda3\\lib\\site-packages (from matplotlib>=2.2->seaborn) (2020.6.20)\n",
      "Requirement already satisfied: six>=1.5 in d:\\users\\haozuo\\anaconda3\\lib\\site-packages (from python-dateutil>=2.7.3->pandas>=0.23->seaborn) (1.15.0)\n",
      "Requirement already satisfied: matplotlib in d:\\users\\haozuo\\anaconda3\\lib\\site-packages (3.3.2)\n",
      "Requirement already satisfied: python-dateutil>=2.1 in d:\\users\\haozuo\\anaconda3\\lib\\site-packages (from matplotlib) (2.8.1)\n",
      "Requirement already satisfied: kiwisolver>=1.0.1 in d:\\users\\haozuo\\anaconda3\\lib\\site-packages (from matplotlib) (1.3.0)\n",
      "Requirement already satisfied: numpy>=1.15 in d:\\users\\haozuo\\anaconda3\\lib\\site-packages (from matplotlib) (1.23.1)\n",
      "Requirement already satisfied: pyparsing!=2.0.4,!=2.1.2,!=2.1.6,>=2.0.3 in d:\\users\\haozuo\\anaconda3\\lib\\site-packages (from matplotlib) (2.4.7)\n",
      "Requirement already satisfied: cycler>=0.10 in d:\\users\\haozuo\\anaconda3\\lib\\site-packages (from matplotlib) (0.10.0)\n",
      "Requirement already satisfied: certifi>=2020.06.20 in d:\\users\\haozuo\\anaconda3\\lib\\site-packages (from matplotlib) (2020.6.20)\n",
      "Requirement already satisfied: pillow>=6.2.0 in d:\\users\\haozuo\\anaconda3\\lib\\site-packages (from matplotlib) (8.4.0)\n",
      "Requirement already satisfied: six>=1.5 in d:\\users\\haozuo\\anaconda3\\lib\\site-packages (from python-dateutil>=2.1->matplotlib) (1.15.0)\n",
      "Requirement already satisfied: scipy in d:\\users\\haozuo\\anaconda3\\lib\\site-packages (1.5.2)\n",
      "Requirement already satisfied: numpy>=1.14.5 in d:\\users\\haozuo\\anaconda3\\lib\\site-packages (from scipy) (1.23.1)\n",
      "Requirement already satisfied: plotly in d:\\users\\haozuo\\anaconda3\\lib\\site-packages (5.11.0)\n",
      "Requirement already satisfied: tenacity>=6.2.0 in d:\\users\\haozuo\\anaconda3\\lib\\site-packages (from plotly) (8.1.0)\n"
     ]
    }
   ],
   "source": [
    "!pip install numpy\n",
    "!pip install pandas\n",
    "!pip install lightgbm\n",
    "!pip install xgboost\n",
    "!pip install scikit-learn==0.22\n",
    "!pip install seaborn\n",
    "!pip install matplotlib\n",
    "!pip install scipy\n",
    "!pip install plotly"
   ]
  },
  {
   "cell_type": "code",
   "execution_count": 2,
   "metadata": {},
   "outputs": [],
   "source": [
    "import os\n",
    "import time\n",
    "import numpy as np\n",
    "import pandas as pd\n",
    "import lightgbm as lgb\n",
    "from multiprocessing import Pool\n",
    "from sklearn.model_selection import KFold, train_test_split\n",
    "import matplotlib.pyplot as plt\n",
    "%matplotlib inline\n",
    "# plt.rcParams['font.sans-serif'] = ['SimHei'] \n",
    "# plt.rcParams['axes.unicode_minus']=False\n",
    "import seaborn as sns\n",
    "color = sns.color_palette()\n",
    "sns.set_style('darkgrid')\n",
    "from matplotlib.font_manager import FontProperties\n",
    "# myfont=FontProperties(fname=r'C:\\Windows\\Fonts\\simhei.ttf',size=15)\n",
    "# sns.set(font=myfont.get_name())\n",
    "from scipy import stats\n",
    "from scipy.stats import norm, skew\n",
    "pd.set_option('display.float_format', lambda x: '{:.3f}'.format(x))\n",
    "import warnings\n",
    "def ignore_warn(*args, **kwargs):\n",
    "    pass\n",
    "warnings.warn = ignore_warn\n",
    "import plotly.offline as py\n",
    "import plotly.graph_objects as go\n",
    "from plotly.offline import init_notebook_mode, iplot"
   ]
  },
  {
   "cell_type": "code",
   "execution_count": 3,
   "metadata": {},
   "outputs": [],
   "source": [
    "data = pd.read_csv('../data/partial data-20191025.csv', encoding='utf8', usecols = ['n','q','p','te','P'])"
   ]
  },
  {
   "cell_type": "code",
   "execution_count": 4,
   "metadata": {},
   "outputs": [
    {
     "data": {
      "text/plain": [
       "2704"
      ]
     },
     "execution_count": 4,
     "metadata": {},
     "output_type": "execute_result"
    }
   ],
   "source": [
    "len(data)"
   ]
  },
  {
   "cell_type": "code",
   "execution_count": 5,
   "metadata": {},
   "outputs": [],
   "source": [
    "# data = data.sample(frac=0.5, replace=True, random_state=46)"
   ]
  },
  {
   "cell_type": "code",
   "execution_count": 6,
   "metadata": {},
   "outputs": [],
   "source": [
    "# len(data)"
   ]
  },
  {
   "cell_type": "code",
   "execution_count": 7,
   "metadata": {},
   "outputs": [
    {
     "data": {
      "text/html": [
       "<div>\n",
       "<style scoped>\n",
       "    .dataframe tbody tr th:only-of-type {\n",
       "        vertical-align: middle;\n",
       "    }\n",
       "\n",
       "    .dataframe tbody tr th {\n",
       "        vertical-align: top;\n",
       "    }\n",
       "\n",
       "    .dataframe thead th {\n",
       "        text-align: right;\n",
       "    }\n",
       "</style>\n",
       "<table border=\"1\" class=\"dataframe\">\n",
       "  <thead>\n",
       "    <tr style=\"text-align: right;\">\n",
       "      <th></th>\n",
       "      <th>n</th>\n",
       "      <th>q</th>\n",
       "      <th>p</th>\n",
       "      <th>te</th>\n",
       "      <th>P</th>\n",
       "    </tr>\n",
       "  </thead>\n",
       "  <tbody>\n",
       "    <tr>\n",
       "      <th>0</th>\n",
       "      <td>600</td>\n",
       "      <td>5.542</td>\n",
       "      <td>0.558</td>\n",
       "      <td>27.175</td>\n",
       "      <td>407.150</td>\n",
       "    </tr>\n",
       "    <tr>\n",
       "      <th>1</th>\n",
       "      <td>600</td>\n",
       "      <td>7.128</td>\n",
       "      <td>0.568</td>\n",
       "      <td>27.515</td>\n",
       "      <td>430.197</td>\n",
       "    </tr>\n",
       "    <tr>\n",
       "      <th>2</th>\n",
       "      <td>600</td>\n",
       "      <td>8.785</td>\n",
       "      <td>0.729</td>\n",
       "      <td>22.826</td>\n",
       "      <td>454.687</td>\n",
       "    </tr>\n",
       "    <tr>\n",
       "      <th>3</th>\n",
       "      <td>600</td>\n",
       "      <td>10.416</td>\n",
       "      <td>0.592</td>\n",
       "      <td>25.289</td>\n",
       "      <td>485.333</td>\n",
       "    </tr>\n",
       "    <tr>\n",
       "      <th>4</th>\n",
       "      <td>600</td>\n",
       "      <td>12.032</td>\n",
       "      <td>0.594</td>\n",
       "      <td>24.509</td>\n",
       "      <td>517.760</td>\n",
       "    </tr>\n",
       "  </tbody>\n",
       "</table>\n",
       "</div>"
      ],
      "text/plain": [
       "     n      q     p     te       P\n",
       "0  600  5.542 0.558 27.175 407.150\n",
       "1  600  7.128 0.568 27.515 430.197\n",
       "2  600  8.785 0.729 22.826 454.687\n",
       "3  600 10.416 0.592 25.289 485.333\n",
       "4  600 12.032 0.594 24.509 517.760"
      ]
     },
     "execution_count": 7,
     "metadata": {},
     "output_type": "execute_result"
    }
   ],
   "source": [
    "data.head()"
   ]
  },
  {
   "cell_type": "code",
   "execution_count": 8,
   "metadata": {},
   "outputs": [
    {
     "name": "stdout",
     "output_type": "stream",
     "text": [
      "<class 'pandas.core.frame.DataFrame'>\n",
      "RangeIndex: 2704 entries, 0 to 2703\n",
      "Data columns (total 5 columns):\n",
      " #   Column  Non-Null Count  Dtype  \n",
      "---  ------  --------------  -----  \n",
      " 0   n       2704 non-null   int64  \n",
      " 1   q       2704 non-null   float64\n",
      " 2   p       2704 non-null   float64\n",
      " 3   te      2704 non-null   float64\n",
      " 4   P       2704 non-null   float64\n",
      "dtypes: float64(4), int64(1)\n",
      "memory usage: 105.8 KB\n"
     ]
    }
   ],
   "source": [
    "data.info()"
   ]
  },
  {
   "cell_type": "code",
   "execution_count": 9,
   "metadata": {},
   "outputs": [
    {
     "data": {
      "text/html": [
       "<div>\n",
       "<style scoped>\n",
       "    .dataframe tbody tr th:only-of-type {\n",
       "        vertical-align: middle;\n",
       "    }\n",
       "\n",
       "    .dataframe tbody tr th {\n",
       "        vertical-align: top;\n",
       "    }\n",
       "\n",
       "    .dataframe thead th {\n",
       "        text-align: right;\n",
       "    }\n",
       "</style>\n",
       "<table border=\"1\" class=\"dataframe\">\n",
       "  <thead>\n",
       "    <tr style=\"text-align: right;\">\n",
       "      <th></th>\n",
       "      <th>n</th>\n",
       "      <th>q</th>\n",
       "      <th>p</th>\n",
       "      <th>te</th>\n",
       "      <th>P</th>\n",
       "    </tr>\n",
       "  </thead>\n",
       "  <tbody>\n",
       "    <tr>\n",
       "      <th>count</th>\n",
       "      <td>2704.000</td>\n",
       "      <td>2704.000</td>\n",
       "      <td>2704.000</td>\n",
       "      <td>2704.000</td>\n",
       "      <td>2704.000</td>\n",
       "    </tr>\n",
       "    <tr>\n",
       "      <th>mean</th>\n",
       "      <td>1124.596</td>\n",
       "      <td>12.796</td>\n",
       "      <td>4.819</td>\n",
       "      <td>27.995</td>\n",
       "      <td>1489.403</td>\n",
       "    </tr>\n",
       "    <tr>\n",
       "      <th>std</th>\n",
       "      <td>330.480</td>\n",
       "      <td>8.951</td>\n",
       "      <td>3.420</td>\n",
       "      <td>1.935</td>\n",
       "      <td>762.654</td>\n",
       "    </tr>\n",
       "    <tr>\n",
       "      <th>min</th>\n",
       "      <td>600.000</td>\n",
       "      <td>1.310</td>\n",
       "      <td>0.081</td>\n",
       "      <td>21.015</td>\n",
       "      <td>3.797</td>\n",
       "    </tr>\n",
       "    <tr>\n",
       "      <th>25%</th>\n",
       "      <td>857.000</td>\n",
       "      <td>5.687</td>\n",
       "      <td>2.039</td>\n",
       "      <td>26.546</td>\n",
       "      <td>913.996</td>\n",
       "    </tr>\n",
       "    <tr>\n",
       "      <th>50%</th>\n",
       "      <td>1071.000</td>\n",
       "      <td>10.322</td>\n",
       "      <td>4.103</td>\n",
       "      <td>27.994</td>\n",
       "      <td>1329.983</td>\n",
       "    </tr>\n",
       "    <tr>\n",
       "      <th>75%</th>\n",
       "      <td>1363.000</td>\n",
       "      <td>17.784</td>\n",
       "      <td>6.882</td>\n",
       "      <td>29.405</td>\n",
       "      <td>1911.268</td>\n",
       "    </tr>\n",
       "    <tr>\n",
       "      <th>max</th>\n",
       "      <td>1800.000</td>\n",
       "      <td>61.536</td>\n",
       "      <td>15.623</td>\n",
       "      <td>33.839</td>\n",
       "      <td>5106.914</td>\n",
       "    </tr>\n",
       "  </tbody>\n",
       "</table>\n",
       "</div>"
      ],
      "text/plain": [
       "             n        q        p       te        P\n",
       "count 2704.000 2704.000 2704.000 2704.000 2704.000\n",
       "mean  1124.596   12.796    4.819   27.995 1489.403\n",
       "std    330.480    8.951    3.420    1.935  762.654\n",
       "min    600.000    1.310    0.081   21.015    3.797\n",
       "25%    857.000    5.687    2.039   26.546  913.996\n",
       "50%   1071.000   10.322    4.103   27.994 1329.983\n",
       "75%   1363.000   17.784    6.882   29.405 1911.268\n",
       "max   1800.000   61.536   15.623   33.839 5106.914"
      ]
     },
     "execution_count": 9,
     "metadata": {},
     "output_type": "execute_result"
    }
   ],
   "source": [
    "data.describe()"
   ]
  },
  {
   "cell_type": "code",
   "execution_count": 10,
   "metadata": {},
   "outputs": [],
   "source": [
    "data.drop(data[(data['P']<100)|(data['P']>4000)].index, inplace=True)"
   ]
  },
  {
   "cell_type": "code",
   "execution_count": 11,
   "metadata": {},
   "outputs": [],
   "source": [
    "# def sqrt_fea(x):\n",
    "#     return np.sqrt(x)"
   ]
  },
  {
   "cell_type": "code",
   "execution_count": 12,
   "metadata": {},
   "outputs": [],
   "source": [
    "# def square_fea(x):\n",
    "#     return np.square(x)"
   ]
  },
  {
   "cell_type": "code",
   "execution_count": 13,
   "metadata": {},
   "outputs": [
    {
     "data": {
      "text/html": [
       "<div>\n",
       "<style scoped>\n",
       "    .dataframe tbody tr th:only-of-type {\n",
       "        vertical-align: middle;\n",
       "    }\n",
       "\n",
       "    .dataframe tbody tr th {\n",
       "        vertical-align: top;\n",
       "    }\n",
       "\n",
       "    .dataframe thead th {\n",
       "        text-align: right;\n",
       "    }\n",
       "</style>\n",
       "<table border=\"1\" class=\"dataframe\">\n",
       "  <thead>\n",
       "    <tr style=\"text-align: right;\">\n",
       "      <th></th>\n",
       "      <th>n</th>\n",
       "      <th>q</th>\n",
       "      <th>p</th>\n",
       "      <th>te</th>\n",
       "      <th>P</th>\n",
       "    </tr>\n",
       "  </thead>\n",
       "  <tbody>\n",
       "    <tr>\n",
       "      <th>0</th>\n",
       "      <td>600</td>\n",
       "      <td>5.542</td>\n",
       "      <td>0.558</td>\n",
       "      <td>27.175</td>\n",
       "      <td>407.150</td>\n",
       "    </tr>\n",
       "    <tr>\n",
       "      <th>1</th>\n",
       "      <td>600</td>\n",
       "      <td>7.128</td>\n",
       "      <td>0.568</td>\n",
       "      <td>27.515</td>\n",
       "      <td>430.197</td>\n",
       "    </tr>\n",
       "    <tr>\n",
       "      <th>2</th>\n",
       "      <td>600</td>\n",
       "      <td>8.785</td>\n",
       "      <td>0.729</td>\n",
       "      <td>22.826</td>\n",
       "      <td>454.687</td>\n",
       "    </tr>\n",
       "    <tr>\n",
       "      <th>3</th>\n",
       "      <td>600</td>\n",
       "      <td>10.416</td>\n",
       "      <td>0.592</td>\n",
       "      <td>25.289</td>\n",
       "      <td>485.333</td>\n",
       "    </tr>\n",
       "    <tr>\n",
       "      <th>4</th>\n",
       "      <td>600</td>\n",
       "      <td>12.032</td>\n",
       "      <td>0.594</td>\n",
       "      <td>24.509</td>\n",
       "      <td>517.760</td>\n",
       "    </tr>\n",
       "  </tbody>\n",
       "</table>\n",
       "</div>"
      ],
      "text/plain": [
       "     n      q     p     te       P\n",
       "0  600  5.542 0.558 27.175 407.150\n",
       "1  600  7.128 0.568 27.515 430.197\n",
       "2  600  8.785 0.729 22.826 454.687\n",
       "3  600 10.416 0.592 25.289 485.333\n",
       "4  600 12.032 0.594 24.509 517.760"
      ]
     },
     "execution_count": 13,
     "metadata": {},
     "output_type": "execute_result"
    }
   ],
   "source": [
    "data.head()"
   ]
  },
  {
   "cell_type": "code",
   "execution_count": 14,
   "metadata": {},
   "outputs": [],
   "source": [
    "# data['te/n'] = data['n'] / data['te']"
   ]
  },
  {
   "cell_type": "code",
   "execution_count": 15,
   "metadata": {},
   "outputs": [],
   "source": [
    "# data.head()"
   ]
  },
  {
   "cell_type": "code",
   "execution_count": 16,
   "metadata": {},
   "outputs": [],
   "source": [
    "y = data['P']\n",
    "X = data.drop('P', axis=1)"
   ]
  },
  {
   "cell_type": "code",
   "execution_count": 17,
   "metadata": {},
   "outputs": [],
   "source": [
    "#划分数据集为训练集和测试集，按照7/3来划分\n",
    "X_train, X_test, y_train, y_test = train_test_split(X, y, test_size=0.3, random_state=3407)"
   ]
  },
  {
   "cell_type": "code",
   "execution_count": 18,
   "metadata": {},
   "outputs": [],
   "source": [
    "# for i in X_train.columns.values:\n",
    "#     X_train[i+'_sqrt'] = sqrt_fea(X_train[i])\n",
    "#     X_train[i+'_square'] = square_fea(X_train[i])"
   ]
  },
  {
   "cell_type": "code",
   "execution_count": 19,
   "metadata": {},
   "outputs": [],
   "source": [
    "# for i in X_test.columns.values:\n",
    "#     X_test[i+'_sqrt'] = sqrt_fea(X_test[i])\n",
    "#     X_test[i+'_square'] = square_fea(X_test[i])"
   ]
  },
  {
   "cell_type": "code",
   "execution_count": 20,
   "metadata": {},
   "outputs": [],
   "source": [
    "title = ['p', 'n', 'q', 'te', 'P']"
   ]
  },
  {
   "cell_type": "code",
   "execution_count": 21,
   "metadata": {},
   "outputs": [
    {
     "name": "stdout",
     "output_type": "stream",
     "text": [
      "\n",
      " mu = 1497.08 and sigma = 727.26\n",
      "\n"
     ]
    },
    {
     "data": {
      "image/png": "[encoded data removed]",
      "text/plain": [
       "<Figure size 432x288 with 1 Axes>"
      ]
     },
     "metadata": {},
     "output_type": "display_data"
    },
    {
     "data": {
      "image/png": "[encoded data removed]",
      "text/plain": [
       "<Figure size 432x288 with 1 Axes>"
      ]
     },
     "metadata": {},
     "output_type": "display_data"
    }
   ],
   "source": [
    "sns.distplot(y_train , fit=norm)\n",
    "# 正态分布拟合\n",
    "(mu, sigma) = norm.fit(y_train)\n",
    "print( '\\n mu = {:.2f} and sigma = {:.2f}\\n'.format(mu, sigma))\n",
    "\n",
    "# 绘图\n",
    "plt.legend(['Normal dist. ($\\mu=$ {:.2f} and $\\sigma=$ {:.2f} )'.format(mu, sigma)],\n",
    "            loc='best')\n",
    "plt.xlabel('Power2')\n",
    "plt.ylabel('Frequency')\n",
    "plt.title('Power2 distribution')\n",
    "\n",
    "# 原始数据分布绘图\n",
    "fig = plt.figure()\n",
    "res = stats.probplot(y_train, plot=plt)\n",
    "plt.show()"
   ]
  },
  {
   "cell_type": "code",
   "execution_count": 22,
   "metadata": {},
   "outputs": [
    {
     "name": "stdout",
     "output_type": "stream",
     "text": [
      "\n",
      " mu = 7.19 and sigma = 0.50\n",
      "\n"
     ]
    },
    {
     "data": {
      "image/png": "[encoded data removed]",
      "text/plain": [
       "<Figure size 432x288 with 1 Axes>"
      ]
     },
     "metadata": {},
     "output_type": "display_data"
    },
    {
     "data": {
      "image/png": "[encoded data removed]",
      "text/plain": [
       "<Figure size 432x288 with 1 Axes>"
      ]
     },
     "metadata": {},
     "output_type": "display_data"
    }
   ],
   "source": [
    "# 使用log1p函数完成log(1+x)变换\n",
    "y_train = np.log1p(y_train)\n",
    "y_test = np.log1p(y_test)\n",
    "\n",
    "# 查看调整后的分布\n",
    "sns.distplot(y_train , fit=norm);\n",
    "\n",
    "# 重新拟合\n",
    "(mu, sigma) = norm.fit(y_train)\n",
    "print( '\\n mu = {:.2f} and sigma = {:.2f}\\n'.format(mu, sigma))\n",
    "\n",
    "# 重新绘制正态分布\n",
    "plt.legend(['Normal dist. ($\\mu=$ {:.2f} and $\\sigma=$ {:.2f} )'.format(mu, sigma)],\n",
    "            loc='best')\n",
    "plt.xlabel('Power2')\n",
    "plt.ylabel('Frequency')\n",
    "plt.title('Power2 distribution')\n",
    "\n",
    "# 绘制变换后的分布\n",
    "fig = plt.figure()\n",
    "res = stats.probplot(y_train, plot=plt)\n",
    "plt.show()"
   ]
  },
  {
   "cell_type": "code",
   "execution_count": 23,
   "metadata": {},
   "outputs": [
    {
     "name": "stdout",
     "output_type": "stream",
     "text": [
      "合并后数据集的size： (2684, 4)\n"
     ]
    }
   ],
   "source": [
    "ntrain = X_train.shape[0]\n",
    "ntest = X_test.shape[0]\n",
    "all_data = pd.concat((X_train, X_test)).reset_index(drop=True)\n",
    "print(\"合并后数据集的size：\",all_data.shape)"
   ]
  },
  {
   "cell_type": "code",
   "execution_count": 24,
   "metadata": {},
   "outputs": [
    {
     "data": {
      "text/html": [
       "<div>\n",
       "<style scoped>\n",
       "    .dataframe tbody tr th:only-of-type {\n",
       "        vertical-align: middle;\n",
       "    }\n",
       "\n",
       "    .dataframe tbody tr th {\n",
       "        vertical-align: top;\n",
       "    }\n",
       "\n",
       "    .dataframe thead th {\n",
       "        text-align: right;\n",
       "    }\n",
       "</style>\n",
       "<table border=\"1\" class=\"dataframe\">\n",
       "  <thead>\n",
       "    <tr style=\"text-align: right;\">\n",
       "      <th></th>\n",
       "      <th>n</th>\n",
       "      <th>q</th>\n",
       "      <th>p</th>\n",
       "      <th>te</th>\n",
       "    </tr>\n",
       "  </thead>\n",
       "  <tbody>\n",
       "    <tr>\n",
       "      <th>0</th>\n",
       "      <td>600</td>\n",
       "      <td>5.450</td>\n",
       "      <td>5.832</td>\n",
       "      <td>26.227</td>\n",
       "    </tr>\n",
       "    <tr>\n",
       "      <th>1</th>\n",
       "      <td>1200</td>\n",
       "      <td>23.935</td>\n",
       "      <td>0.697</td>\n",
       "      <td>31.213</td>\n",
       "    </tr>\n",
       "    <tr>\n",
       "      <th>2</th>\n",
       "      <td>652</td>\n",
       "      <td>3.710</td>\n",
       "      <td>8.694</td>\n",
       "      <td>26.407</td>\n",
       "    </tr>\n",
       "    <tr>\n",
       "      <th>3</th>\n",
       "      <td>732</td>\n",
       "      <td>5.311</td>\n",
       "      <td>10.480</td>\n",
       "      <td>26.706</td>\n",
       "    </tr>\n",
       "    <tr>\n",
       "      <th>4</th>\n",
       "      <td>1428</td>\n",
       "      <td>7.400</td>\n",
       "      <td>1.724</td>\n",
       "      <td>27.857</td>\n",
       "    </tr>\n",
       "  </tbody>\n",
       "</table>\n",
       "</div>"
      ],
      "text/plain": [
       "      n      q      p     te\n",
       "0   600  5.450  5.832 26.227\n",
       "1  1200 23.935  0.697 31.213\n",
       "2   652  3.710  8.694 26.407\n",
       "3   732  5.311 10.480 26.706\n",
       "4  1428  7.400  1.724 27.857"
      ]
     },
     "execution_count": 24,
     "metadata": {},
     "output_type": "execute_result"
    }
   ],
   "source": [
    "all_data.head()"
   ]
  },
  {
   "cell_type": "code",
   "execution_count": 25,
   "metadata": {},
   "outputs": [
    {
     "data": {
      "text/plain": [
       "n     0\n",
       "q     0\n",
       "p     0\n",
       "te    0\n",
       "dtype: int64"
      ]
     },
     "execution_count": 25,
     "metadata": {},
     "output_type": "execute_result"
    }
   ],
   "source": [
    "all_data.isnull().sum()"
   ]
  },
  {
   "cell_type": "code",
   "execution_count": 26,
   "metadata": {},
   "outputs": [],
   "source": [
    "train = all_data[:ntrain]\n",
    "test = all_data[ntrain:]"
   ]
  },
  {
   "cell_type": "code",
   "execution_count": 27,
   "metadata": {},
   "outputs": [],
   "source": [
    "from sklearn.linear_model import ElasticNet, Lasso,  BayesianRidge, LassoLarsIC\n",
    "from sklearn.svm import SVR\n",
    "from sklearn.neural_network import MLPRegressor\n",
    "from sklearn.ensemble import RandomForestRegressor,  GradientBoostingRegressor,AdaBoostClassifier\n",
    "from sklearn.kernel_ridge import KernelRidge\n",
    "from sklearn.pipeline import make_pipeline\n",
    "from sklearn.preprocessing import RobustScaler, StandardScaler\n",
    "from sklearn.base import BaseEstimator, TransformerMixin, RegressorMixin, clone\n",
    "from sklearn.model_selection import KFold, cross_val_score, train_test_split\n",
    "from sklearn.metrics import mean_squared_error, mean_absolute_error, r2_score, make_scorer\n",
    "import xgboost as xgb\n",
    "import lightgbm as lgb"
   ]
  },
  {
   "cell_type": "code",
   "execution_count": 28,
   "metadata": {},
   "outputs": [],
   "source": [
    "# 交叉验证函数\n",
    "n_folds = 5\n",
    "\n",
    "def rmsle_cv(model):\n",
    "    kf = KFold(n_folds, shuffle=True, random_state=42).get_n_splits(train.values)\n",
    "    rmse= np.sqrt(-cross_val_score(model, train.values, y_train, scoring=\"neg_mean_squared_error\", cv = kf))\n",
    "    return rmse\n",
    "\n",
    "def mae_cv(model):\n",
    "    kf = KFold(n_folds, shuffle=True, random_state=42).get_n_splits(train.values)\n",
    "    mae = -cross_val_score(model, train.values, y_train, scoring=\"neg_mean_absolute_error\", cv=kf)\n",
    "    return mae\n",
    "\n",
    "def evalmape(dtrain, preds):\n",
    "    gaps = dtrain\n",
    "    err = abs(gaps-preds)/gaps\n",
    "    err[(gaps==0)] = 0\n",
    "    err = np.mean(err)*100\n",
    "    return err\n",
    "\n",
    "MAPE = make_scorer(evalmape, greater_is_better=False)\n",
    "\n",
    "def mape_cv(model):\n",
    "    kf = KFold(n_folds, shuffle=True, random_state=42).get_n_splits(train.values)\n",
    "    mape = -cross_val_score(model, train.values, y_train, scoring=MAPE, cv=kf)\n",
    "    return mape"
   ]
  },
  {
   "cell_type": "code",
   "execution_count": 29,
   "metadata": {},
   "outputs": [],
   "source": [
    "# KRR = KernelRidge(alpha=1, kernel='polynomial', degree=2, coef0=5)\n",
    "KRR = KernelRidge(alpha=0.0001, kernel='rbf', gamma=0.001)\n",
    "KRR = make_pipeline(RobustScaler(), KRR)"
   ]
  },
  {
   "cell_type": "code",
   "execution_count": 30,
   "metadata": {},
   "outputs": [],
   "source": [
    "# SVR = SVR()\n",
    "SVR_model = make_pipeline(RobustScaler(), SVR(kernel='rbf', C=10, epsilon=0.01))"
   ]
  },
  {
   "cell_type": "code",
   "execution_count": 31,
   "metadata": {},
   "outputs": [],
   "source": [
    "RF = RandomForestRegressor(n_estimators=1500,min_samples_leaf=3, min_samples_split=5,random_state=2019)"
   ]
  },
  {
   "cell_type": "code",
   "execution_count": 32,
   "metadata": {},
   "outputs": [],
   "source": [
    "# GBoost = GradientBoostingRegressor(n_estimators=1000, learning_rate=0.02,\n",
    "#                                    max_depth=5, max_features='sqrt',\n",
    "#                                    min_samples_leaf=20, min_samples_split=5, \n",
    "#                                    loss='huber', random_state = 2019)\n",
    "# GBoost = GradientBoostingRegressor(n_estimators=1000, max_depth=5, loss='huber', learning_rate=0.02)"
   ]
  },
  {
   "cell_type": "code",
   "execution_count": 33,
   "metadata": {},
   "outputs": [],
   "source": [
    "# model_xgb = xgb.XGBRegressor( learning_rate=0.02, max_depth=5,  n_estimators=1000, \n",
    "#                               gamma=0.1, subsample=0.9, min_child_weight=1, random_state =2015, silent=1)\n",
    "model_xgb = xgb.XGBRegressor(n_estimators=1800, max_depth=5, min_child_weight=1, reg_lambda=0.1, reg_alpha=0.1,\n",
    "                             subsample=0.8,colsample_bytree=0.8,learning_rate=0.05)"
   ]
  },
  {
   "cell_type": "code",
   "execution_count": 34,
   "metadata": {},
   "outputs": [],
   "source": [
    "# model_lgb = lgb.LGBMRegressor(num_leaves=38, min_data_in_leaf=50, objective='regression', max_depth=-1,\n",
    "#                               learning_rate=0.02, min_sum_hessian_in_leaf=6, boosting=\"gbdt\",\n",
    "#                               feature_fraction=0.9, bagging_freq=1, bagging_fraction=0.7, bagging_seed=11,\n",
    "#                               lambda_l1=0.1, verbosity=-1, nthread=4, random_state=2019)"
   ]
  },
  {
   "cell_type": "code",
   "execution_count": 35,
   "metadata": {},
   "outputs": [],
   "source": [
    "MLP = MLPRegressor(hidden_layer_sizes=(100,50,50,50), #隐藏层的神经元个数\n",
    "                    activation='tanh', \n",
    "                    solver='adam', \n",
    "                    alpha=0.01,   #L2惩罚参数\n",
    "                    max_iter=5000, \n",
    "                    random_state=46, \n",
    "                    early_stopping=True, #是否提前停止训练\n",
    "                    validation_fraction=0.2, #20%作为验证集\n",
    "                    tol=1e-8)\n",
    "MLP = make_pipeline(StandardScaler(), MLP)"
   ]
  },
  {
   "cell_type": "code",
   "execution_count": 36,
   "metadata": {},
   "outputs": [
    {
     "name": "stdout",
     "output_type": "stream",
     "text": [
      "\n",
      "SVR 得分: 0.0438 (0.0020)\n",
      "\n",
      "\n",
      "SVR 得分: 0.4511 (0.0151)\n",
      "\n",
      "用时：6.82s\n"
     ]
    }
   ],
   "source": [
    "start = time.time()\n",
    "score = rmsle_cv(SVR_model)\n",
    "score1 = mape_cv(SVR_model)\n",
    "print(\"\\nSVR 得分: {:.4f} ({:.4f})\\n\".format(score.mean(), score.std()))\n",
    "print(\"\\nSVR 得分: {:.4f} ({:.4f})\\n\".format(score1.mean(), score1.std()))\n",
    "end = time.time()\n",
    "print(\"用时：{:.2f}s\".format(end-start))"
   ]
  },
  {
   "cell_type": "code",
   "execution_count": 37,
   "metadata": {},
   "outputs": [
    {
     "name": "stdout",
     "output_type": "stream",
     "text": [
      "RandomForest: 均值0.0540 (标准差0.0016)\n",
      "\n",
      "RandomForest: 均值0.5564 (标准差0.0216)\n",
      "\n",
      "用时：53.97s\n"
     ]
    }
   ],
   "source": [
    "start = time.time()\n",
    "score = rmsle_cv(RF)\n",
    "score1 = mape_cv(RF)\n",
    "print(\"RandomForest: 均值{:.4f} (标准差{:.4f})\\n\".format(score.mean(), score.std()))\n",
    "print(\"RandomForest: 均值{:.4f} (标准差{:.4f})\\n\".format(score1.mean(), score1.std()))\n",
    "end = time.time()\n",
    "print(\"用时：{:.2f}s\".format(end-start))"
   ]
  },
  {
   "cell_type": "code",
   "execution_count": 38,
   "metadata": {},
   "outputs": [],
   "source": [
    "# start = time.time()\n",
    "# score = rmsle_cv(GBoost)\n",
    "# score1 = mape_cv(GBoost)\n",
    "# print(\"GBoost 得分: {:.4f} ({:.4f})\\n\".format(score.mean(), score.std()))\n",
    "# print(\"GBoost 得分: {:.4f} ({:.4f})\\n\".format(score1.mean(), score1.std()))\n",
    "# end = time.time()\n",
    "# print(\"用时：\", end-start)"
   ]
  },
  {
   "cell_type": "code",
   "execution_count": 39,
   "metadata": {
    "scrolled": true
   },
   "outputs": [
    {
     "name": "stdout",
     "output_type": "stream",
     "text": [
      "Xgboost: 均值0.0426 (标准差0.0008)\n",
      "\n",
      "Xgboost: 均值0.4277 (标准差0.0136)\n",
      "\n",
      "用时：23.20s\n"
     ]
    }
   ],
   "source": [
    "start = time.time()\n",
    "score = rmsle_cv(model_xgb)\n",
    "score1 = mape_cv(model_xgb)\n",
    "print(\"Xgboost: 均值{:.4f} (标准差{:.4f})\\n\".format(score.mean(), score.std()))\n",
    "print(\"Xgboost: 均值{:.4f} (标准差{:.4f})\\n\".format(score1.mean(), score1.std()))\n",
    "end = time.time()\n",
    "print(\"用时：{:.2f}s\".format(end-start))"
   ]
  },
  {
   "cell_type": "code",
   "execution_count": 40,
   "metadata": {},
   "outputs": [
    {
     "name": "stdout",
     "output_type": "stream",
     "text": [
      "MLP: 均值0.0663 (标准差0.0040)\n",
      "\n",
      "MLP: 均值0.7083 (标准差0.0330)\n",
      "\n",
      "用时： 43.03899621963501\n"
     ]
    }
   ],
   "source": [
    "start = time.time()\n",
    "score = rmsle_cv(MLP)\n",
    "score1 = mape_cv(MLP)\n",
    "print(\"MLP: 均值{:.4f} (标准差{:.4f})\\n\".format(score.mean(), score.std()))\n",
    "print(\"MLP: 均值{:.4f} (标准差{:.4f})\\n\".format(score1.mean(), score1.std()))\n",
    "end = time.time()\n",
    "print(\"用时：\", end-start)"
   ]
  },
  {
   "cell_type": "markdown",
   "metadata": {},
   "source": [
    "### 计算rmse和mape的数值"
   ]
  },
  {
   "cell_type": "code",
   "execution_count": 41,
   "metadata": {},
   "outputs": [],
   "source": [
    "def rmsle(y, y_pred):\n",
    "    return np.sqrt(mean_squared_error(y, y_pred))\n",
    "\n",
    "def mape(y, y_pred):\n",
    "    gaps = y\n",
    "    err = abs(gaps-y_pred)/gaps\n",
    "    err[(gaps==0)] = 0\n",
    "    err = np.mean(err)*100\n",
    "    return err"
   ]
  },
  {
   "cell_type": "code",
   "execution_count": 42,
   "metadata": {},
   "outputs": [
    {
     "name": "stdout",
     "output_type": "stream",
     "text": [
      "SVR 训练集得分: 64.9014\n",
      "SVR 测试集得分: 73.2289\n",
      "SVR 训练集得分: 2.7093\n",
      "SVR 测试集得分: 3.2831\n"
     ]
    }
   ],
   "source": [
    "#SVR:\n",
    "SVR_model.fit(train, y_train)\n",
    "SVR_train_pred = SVR_model.predict(train)\n",
    "SVR_pred = SVR_model.predict(test)\n",
    "print(\"SVR 训练集得分: {:.4f}\".format(rmsle(np.expm1(y_train), np.expm1(SVR_train_pred))))\n",
    "print(\"SVR 测试集得分: {:.4f}\".format(rmsle(np.expm1(y_test), np.expm1(SVR_pred))))\n",
    "print(\"SVR 训练集得分: {:.4f}\".format(mape(np.expm1(y_train), np.expm1(SVR_train_pred))))\n",
    "print(\"SVR 测试集得分: {:.4f}\".format(mape(np.expm1(y_test), np.expm1(SVR_pred))))"
   ]
  },
  {
   "cell_type": "code",
   "execution_count": 43,
   "metadata": {},
   "outputs": [
    {
     "name": "stdout",
     "output_type": "stream",
     "text": [
      "RF 训练集得分: 50.5087\n",
      "RF 测试集得分: 82.8892\n",
      "RF 训练集得分: 2.0350\n",
      "RF 测试集得分: 3.5636\n"
     ]
    }
   ],
   "source": [
    "#RandomForest:\n",
    "RF.fit(train, y_train)\n",
    "RF_train_pred = RF.predict(train)\n",
    "RF_pred = RF.predict(test)\n",
    "print(\"RF 训练集得分: {:.4f}\".format(rmsle(np.expm1(y_train), np.expm1(RF_train_pred))))\n",
    "print(\"RF 测试集得分: {:.4f}\".format(rmsle(np.expm1(y_test), np.expm1(RF_pred))))\n",
    "print(\"RF 训练集得分: {:.4f}\".format(mape(np.expm1(y_train), np.expm1(RF_train_pred))))\n",
    "print(\"RF 测试集得分: {:.4f}\".format(mape(np.expm1(y_test), np.expm1(RF_pred))))"
   ]
  },
  {
   "cell_type": "code",
   "execution_count": 44,
   "metadata": {},
   "outputs": [],
   "source": [
    "# #GBoost:\n",
    "# GBoost.fit(train, y_train)\n",
    "# GBoost_train_pred = GBoost.predict(train)\n",
    "# GBoost_pred = GBoost.predict(test)\n",
    "# print(\"GB 训练集得分: {:.4f}\".format(rmsle(np.expm1(y_train), np.expm1(GBoost_train_pred))))\n",
    "# print(\"GB 测试集得分: {:.4f}\".format(rmsle(np.expm1(y_test), np.expm1(GBoost_pred))))\n",
    "# print(\"GB 训练集得分: {:.4f}\".format(mape(np.expm1(y_train), np.expm1(GBoost_train_pred))))\n",
    "# print(\"GB 测试集得分: {:.4f}\".format(mape(np.expm1(y_test), np.expm1(GBoost_pred))))"
   ]
  },
  {
   "cell_type": "code",
   "execution_count": 45,
   "metadata": {},
   "outputs": [
    {
     "name": "stdout",
     "output_type": "stream",
     "text": [
      "XGB 训练集得分: 19.5555\n",
      "XGB 测试集得分: 65.2609\n",
      "XGB 训练集得分: 0.8176\n",
      "XGB 测试集得分: 2.9148\n"
     ]
    }
   ],
   "source": [
    "#XGBoost:\n",
    "model_xgb.fit(train, y_train)\n",
    "xgb_train_pred = model_xgb.predict(train)\n",
    "xgb_pred = model_xgb.predict(test)\n",
    "print(\"XGB 训练集得分: {:.4f}\".format(rmsle(np.expm1(y_train), np.expm1(xgb_train_pred))))\n",
    "print(\"XGB 测试集得分: {:.4f}\".format(rmsle(np.expm1(y_test), np.expm1(xgb_pred))))\n",
    "print(\"XGB 训练集得分: {:.4f}\".format(mape(np.expm1(y_train), np.expm1(xgb_train_pred))))\n",
    "print(\"XGB 测试集得分: {:.4f}\".format(mape(np.expm1(y_test), np.expm1(xgb_pred))))"
   ]
  },
  {
   "cell_type": "code",
   "execution_count": 46,
   "metadata": {},
   "outputs": [
    {
     "name": "stdout",
     "output_type": "stream",
     "text": [
      "MLP 训练集得分: 80.2526\n",
      "MLP 测试集得分: 75.6558\n",
      "MLP 训练集得分: 3.5138\n",
      "MLP 测试集得分: 3.6353\n"
     ]
    }
   ],
   "source": [
    "#MLP:\n",
    "MLP.fit(train, y_train)\n",
    "mlp_train_pred = MLP.predict(train)\n",
    "mlp_pred = MLP.predict(test)\n",
    "print(\"MLP 训练集得分: {:.4f}\".format(rmsle(np.expm1(y_train), np.expm1(mlp_train_pred))))\n",
    "print(\"MLP 测试集得分: {:.4f}\".format(rmsle(np.expm1(y_test), np.expm1(mlp_pred))))\n",
    "print(\"MLP 训练集得分: {:.4f}\".format(mape(np.expm1(y_train), np.expm1(mlp_train_pred))))\n",
    "print(\"MLP 测试集得分: {:.4f}\".format(mape(np.expm1(y_test), np.expm1(mlp_pred))))"
   ]
  },
  {
   "cell_type": "code",
   "execution_count": 47,
   "metadata": {},
   "outputs": [
    {
     "data": {
      "text/plain": [
       "<Figure size 18432x9216 with 0 Axes>"
      ]
     },
     "metadata": {},
     "output_type": "display_data"
    },
    {
     "data": {
      "image/png": "[encoded data removed]",
      "text/plain": [
       "<Figure size 432x288 with 1 Axes>"
      ]
     },
     "metadata": {},
     "output_type": "display_data"
    }
   ],
   "source": [
    "# xgboost特征重要性\n",
    "plt.figure(figsize=(256,128))\n",
    "xgb.plot_importance(model_xgb)\n",
    "plt.title(\"Feature importances\")\n",
    "plt.show()"
   ]
  },
  {
   "cell_type": "markdown",
   "metadata": {},
   "source": [
    "### R2在训练集和测试集上数值"
   ]
  },
  {
   "cell_type": "code",
   "execution_count": 49,
   "metadata": {},
   "outputs": [
    {
     "name": "stdout",
     "output_type": "stream",
     "text": [
      "SVR: 0.9920360009904283\n",
      "RF: 0.9951765779194065\n",
      "XGBoost: 0.9992769604761393\n",
      "MLP: 0.9878229699798491\n"
     ]
    }
   ],
   "source": [
    "print(\"SVR:\", r2_score(np.expm1(y_train), np.expm1(SVR_train_pred)))\n",
    "print(\"RF:\", r2_score(np.expm1(y_train), np.expm1(RF_train_pred)))\n",
    "# print(\"GBoost:\", r2_score(np.expm1(y_train), np.expm1(GBoost_train_pred)))\n",
    "print(\"XGBoost:\", r2_score(np.expm1(y_train), np.expm1(xgb_train_pred)))\n",
    "print(\"MLP:\", r2_score(np.expm1(y_train), np.expm1(mlp_train_pred)))"
   ]
  },
  {
   "cell_type": "code",
   "execution_count": null,
   "metadata": {},
   "outputs": [],
   "source": [
    "print(\"SVR:\", r2_score(np.expm1(y_test), np.expm1(SVR_pred)))\n",
    "print(\"RF:\", r2_score(np.expm1(y_test), np.expm1(RF_pred)))\n",
    "# print(\"GBoost:\", r2_score(np.expm1(y_test), np.expm1(GBoost_pred)))\n",
    "print(\"XGBoost:\", r2_score(np.expm1(y_test), np.expm1(xgb_pred)))\n",
    "print(\"MLP:\", r2_score(np.expm1(y_test), np.expm1(mlp_pred)))"
   ]
  }
 ],
 "metadata": {
  "kernelspec": {
   "display_name": "Python 3",
   "language": "python",
   "name": "python3"
  },
  "language_info": {
   "codemirror_mode": {
    "name": "ipython",
    "version": 3
   },
   "file_extension": ".py",
   "mimetype": "text/x-python",
   "name": "python",
   "nbconvert_exporter": "python",
   "pygments_lexer": "ipython3",
   "version": "3.8.5"
  }
 },
 "nbformat": 4,
 "nbformat_minor": 2
}
